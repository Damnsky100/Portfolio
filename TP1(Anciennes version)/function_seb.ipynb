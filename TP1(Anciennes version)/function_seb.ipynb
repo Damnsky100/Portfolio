{
 "cells": [
  {
   "cell_type": "code",
   "execution_count": 1,
   "metadata": {},
   "outputs": [],
   "source": [
    "\n",
    "##Importer les données\n",
    "\n",
    "import numpy as np\n",
    "import pandas as pd\n",
    "import matplotlib.pyplot as plt\n",
    "from scipy import optimize\n",
    "import scipy.optimize as sco\n",
    "\n",
    "\n"
   ]
  },
  {
   "cell_type": "code",
   "execution_count": 133,
   "metadata": {},
   "outputs": [
    {
     "name": "stdout",
     "output_type": "stream",
     "text": [
      "{'Data':              Agric    Food    Soda    Beer   Smoke    Toys     Fun   Books  \\\n",
      "1926-07-01  0.0237  0.0012 -0.9999 -0.0519  0.0129  0.0865  0.0250  0.5021   \n",
      "1926-08-01  0.0223  0.0268 -0.9999  0.2703  0.0650  0.1681 -0.0076  0.4298   \n",
      "1926-09-01 -0.0057  0.0158 -0.9999  0.0402  0.0126  0.0833  0.0642 -0.0491   \n",
      "1926-10-01 -0.0046 -0.0368 -0.9999 -0.0331  0.0106 -0.0140 -0.0509  0.0537   \n",
      "1926-11-01  0.0675  0.0626 -0.9999  0.0729  0.0455  0.0000  0.0182 -0.0640   \n",
      "...            ...     ...     ...     ...     ...     ...     ...     ...   \n",
      "2022-07-01  0.0638  0.0368  0.0328  0.0549  0.0056  0.0563  0.1704  0.1208   \n",
      "2022-08-01  0.0523 -0.0046 -0.0440 -0.0187 -0.0012 -0.0577 -0.0226 -0.0500   \n",
      "2022-09-01 -0.0703 -0.0765 -0.0814 -0.0521 -0.1055 -0.1543 -0.0410 -0.1338   \n",
      "2022-10-01  0.1379  0.1112  0.0713  0.0949  0.1208  0.0548  0.1498  0.0882   \n",
      "2022-11-01  0.0253  0.0284  0.0769  0.0323  0.0557  0.0979  0.0724  0.1570   \n",
      "\n",
      "             Hshld   Clths  ...   Boxes   Trans   Whlsl   Rtail   Meals  \\\n",
      "1926-07-01 -0.0048  0.0808  ...  0.0770  0.0192 -0.2379  0.0007  0.0187   \n",
      "1926-08-01 -0.0358 -0.0251  ... -0.0238  0.0485  0.0539 -0.0075 -0.0013   \n",
      "1926-09-01  0.0073 -0.0051  ... -0.0554  0.0008 -0.0787  0.0025 -0.0056   \n",
      "1926-10-01 -0.0468  0.0012  ... -0.0508 -0.0262 -0.1538 -0.0220 -0.0411   \n",
      "1926-11-01 -0.0054  0.0187  ...  0.0384  0.0161  0.0467  0.0652  0.0433   \n",
      "...            ...     ...  ...     ...     ...     ...     ...     ...   \n",
      "2022-07-01  0.0076  0.1186  ...  0.0709  0.0933  0.0908  0.1633  0.1189   \n",
      "2022-08-01 -0.0216 -0.0601  ... -0.0911 -0.0146 -0.0160 -0.0346 -0.0147   \n",
      "2022-09-01 -0.1060 -0.1736  ... -0.1385 -0.1424 -0.0946 -0.0767 -0.0626   \n",
      "2022-10-01  0.0568  0.1072  ...  0.0560  0.0668  0.1365  0.0194  0.1026   \n",
      "2022-11-01  0.0944  0.1734  ...  0.1058  0.1032  0.0505  0.0295  0.0565   \n",
      "\n",
      "             Banks   Insur   RlEst     Fin   Other  \n",
      "1926-07-01  0.0461 -0.0054  0.0289 -0.0577  0.0520  \n",
      "1926-08-01  0.1183  0.0257  0.0530  0.0032  0.0676  \n",
      "1926-09-01 -0.0175  0.0072 -0.0306 -0.0481 -0.0386  \n",
      "1926-10-01 -0.1182 -0.0428 -0.0574 -0.0094 -0.0849  \n",
      "1926-11-01 -0.0297  0.0358  0.0221  0.0513  0.0400  \n",
      "...            ...     ...     ...     ...     ...  \n",
      "2022-07-01  0.0854  0.0315  0.1410  0.1044  0.1001  \n",
      "2022-08-01 -0.0341 -0.0084 -0.0612 -0.0102 -0.0403  \n",
      "2022-09-01 -0.0921 -0.0445 -0.1289 -0.0847 -0.0596  \n",
      "2022-10-01  0.1354  0.1283  0.0682  0.1134  0.1048  \n",
      "2022-11-01  0.0519  0.0141  0.1088  0.0830  0.0711  \n",
      "\n",
      "[1157 rows x 48 columns], 'Industry_name': ['Agric', 'Food', 'Soda', 'Beer', 'Smoke', 'Toys', 'Fun', 'Books', 'Hshld', 'Clths', 'Hlth', 'MedEq', 'Drugs', 'Chems', 'Rubbr', 'Txtls', 'BldMt', 'Cnstr', 'Steel', 'FabPr', 'Mach', 'ElcEq', 'Autos', 'Aero', 'Ships', 'Guns', 'Gold', 'Mines', 'Coal', 'Oil', 'Util', 'Telcm', 'PerSv', 'BusSv', 'Comps', 'Chips', 'LabEq', 'Paper', 'Boxes', 'Trans', 'Whlsl', 'Rtail', 'Meals', 'Banks', 'Insur', 'RlEst', 'Fin', 'Other']}\n"
     ]
    },
    {
     "name": "stderr",
     "output_type": "stream",
     "text": [
      "C:\\Users\\Sébastien\\AppData\\Local\\Temp\\ipykernel_8228\\3224556917.py:3: FutureWarning: The pandas.datetime class is deprecated and will be removed from pandas in a future version. Import from datetime module instead.\n",
      "  dateparse = lambda x: pd.datetime.strptime(x,'%Y%m')\n"
     ]
    }
   ],
   "source": [
    "\n",
    "\n",
    "def Load_ind_data(path = \"C:/Users/Sébastien/Desktop/TP1/48_Industry_Portfolios.CSV\"):\n",
    "\n",
    "    dateparse = lambda x: pd.datetime.strptime(x,'%Y%m') \n",
    "\n",
    "    Data = pd.read_csv(path ,skiprows=11,nrows=1157,index_col=0,parse_dates=True,date_parser=dateparse)/100\n",
    "    Data.columns = Data.columns.str.strip() #Enlever l'espace dans le titre des colonnes\n",
    "\n",
    "    ind_names = list(Data.columns) #List of 48 industry available\n",
    "    \n",
    "    return {\"Data\": Data, \"Industry_name\": ind_names}\n",
    "\n",
    "print(Load_ind_data())\n",
    "\n",
    "Data = Load_ind_data()[\"Data\"]\n",
    "\n",
    "Data_select = Data[['Meals','Guns','Hshld','Oil','Txtls']]\n",
    "\n",
    "Data_select = Data_select[Data_select.index >= '2000-01']\n",
    "\n",
    "Data_select = Data[['Meals','Guns','Hshld','Oil','Txtls']]\n",
    "\n",
    "Industrie_selected = Data_select.columns\n"
   ]
  },
  {
   "cell_type": "code",
   "execution_count": 42,
   "metadata": {},
   "outputs": [],
   "source": [
    "\n",
    "## Without risk-free asset :\n",
    "\n",
    "# Determination of the maximum return portfolio (under certain constraints) :\n",
    "\n",
    "#Initial weights irrevelant since we can guess anything\n",
    "\n",
    "def Max_return_ptf(E_return, bounds = (0, 1)):\n",
    "      \n",
    "    #Initialize variables\n",
    "    \n",
    "    Initial_weights = np.array([1 / len(E_return)] * len(E_return))\n",
    "    bounds = tuple(bounds for w in Initial_weights)\n",
    "    Industrie_selected = E_return.index\n",
    "    constraints_max_ret = ( {'type': 'eq', 'fun': lambda x: np.sum(x) - 1}) # Sum of the weigth need to sum to 1\n",
    "    \n",
    "# Define objective fonction to minimize :\n",
    "    def Max_return_obj (weigth, E_return = E_return.values):\n",
    "        return - np.dot(weigth.T,E_return)\n",
    "# Compute the maximum return portfolio by optimisation under constraints: \n",
    "\n",
    "    Max_ret_PTF = sco.minimize(\n",
    "\n",
    "      fun = Max_return_obj, \n",
    "      x0 = Initial_weights, \n",
    "      method = 'SLSQP',\n",
    "      bounds = bounds, \n",
    "      constraints = constraints_max_ret\n",
    "    \n",
    "    )\n",
    "\n",
    "    Max_ret_weigth = pd.DataFrame(Max_ret_PTF['x'], index=Industrie_selected,columns = ['Weigth'])\n",
    "\n",
    "    Max_ret_return = pd.DataFrame([np.dot(Max_ret_PTF['x'].T, E_return.values)], columns = ['return'])\n",
    "    \n",
    "    Max_return = {'Max_ret_return' : Max_ret_return,\n",
    "                       'Max_ret_weigth' : Max_ret_weigth.T}\n",
    "    return(Max_return)\n",
    "  \n",
    "\n",
    "\n"
   ]
  },
  {
   "cell_type": "code",
   "execution_count": 26,
   "metadata": {},
   "outputs": [
    {
     "data": {
      "text/plain": [
       "({'Max_ret_return':      return\n",
       "  0  0.030569,\n",
       "  'Max_ret_weigth':         Meals  Guns  Hshld  Oil  Txtls\n",
       "  Weigth    2.0   2.0   -2.0  1.0   -2.0},\n",
       " ((-2, 2), (-2, 2), (-2, 2), (-2, 2), (-2, 2)))"
      ]
     },
     "execution_count": 26,
     "metadata": {},
     "output_type": "execute_result"
    }
   ],
   "source": [
    "E_return = Data_select.mean()\n",
    "Max_return_result = Max_return_ptf(E_return, bounds= (-2,2))\n",
    "Max_return_result\n",
    "  "
   ]
  },
  {
   "cell_type": "code",
   "execution_count": 39,
   "metadata": {},
   "outputs": [],
   "source": [
    "\n",
    "##### Determination of the minimum-variance  portfolio  :\n",
    "\n",
    "def Min_var_ptf(E_return, E_cov, bounds = (-2,2)):\n",
    "    \n",
    "    #Initialize variables\n",
    "    \n",
    "    Initial_weights = np.array([1 / len(E_return)] * len(E_return))\n",
    "    bounds = tuple(bounds for w in Initial_weights)\n",
    "    Industrie_selected = E_return.index\n",
    "    constraints_min_var = ( {'type': 'eq', 'fun': lambda x: np.sum(x) - 1}) # Sum of the weigth need to sum to 1\n",
    "   \n",
    "    \n",
    "    # Define objective fonction to minimize :\n",
    "\n",
    "    def Min_Variance_obj (weigth,Cov_matrix = E_cov) : \n",
    "        return (0.5*np.dot(np.dot(weigth.T,Cov_matrix),weigth))\n",
    "# Compute the minimum variance portfolio by optimisation under constraints: \n",
    "\n",
    "    Min_var_PTF = sco.minimize(\n",
    "\n",
    "      fun = Min_Variance_obj, \n",
    "      x0 = Initial_weights, \n",
    "      method = 'SLSQP',\n",
    "      constraints = constraints_min_var,\n",
    "      bounds = bounds\n",
    "    \n",
    "    )\n",
    "\n",
    "    Min_var_weigth = pd.DataFrame(Min_var_PTF['x'], index=Industrie_selected, columns= ['Weigth'])\n",
    "\n",
    "    Min_var_return = pd.DataFrame([np.dot(Min_var_PTF['x'].T, E_return.values)], columns= ['return'])\n",
    "    \n",
    "    Min_var = {'Min_var_return': Min_var_return,\n",
    "                     'Min_var_weigth': Min_var_weigth.T}\n",
    "  \n",
    "    return(Min_var)\n",
    "\n"
   ]
  },
  {
   "cell_type": "code",
   "execution_count": 86,
   "metadata": {},
   "outputs": [
    {
     "data": {
      "text/plain": [
       "Meals    0.010559\n",
       "Guns     0.014635\n",
       "Hshld    0.006298\n",
       "Oil      0.009881\n",
       "Txtls    0.008552\n",
       "dtype: float64"
      ]
     },
     "execution_count": 86,
     "metadata": {},
     "output_type": "execute_result"
    }
   ],
   "source": [
    "E_return = Data_select.mean()\n",
    "E_cov = Data_select.cov()\n",
    "Min_var_result = Min_var_ptf(E_return, E_cov, bounds = (-2,2))\n",
    "Nbr_PTF = 100\n",
    "\n",
    "np.zeros((len(E_return), Nbr_PTF))\n",
    "\n",
    "E_return\n",
    "\n"
   ]
  },
  {
   "cell_type": "code",
   "execution_count": 91,
   "metadata": {},
   "outputs": [],
   "source": [
    "##### Determination of the optimal  portfolio  for a given return  :\n",
    "\n",
    "\n",
    "def Ptf_target_optimization(E_return, E_cov, Nbr_PTF, bounds = (-2, 2)):\n",
    "    \n",
    "    #Define Variables\n",
    "    \n",
    "    Min_var_result = Min_var_ptf(E_return, E_cov, bounds)\n",
    "    Max_return_result = Max_return_ptf(E_return, bounds)\n",
    "    \n",
    "    Initial_weights = np.array([1 / len(E_return)] * len(E_return))\n",
    "    bounds = tuple(bounds for w in Initial_weights)\n",
    "    \n",
    "    \n",
    "    \n",
    "    Target_return = np.linspace (Min_var_result['Min_var_return'].iloc[0]['return'], Max_return_result['Max_ret_return'].iloc[0]['return'], Nbr_PTF)\n",
    "    Weigth_names = E_return.index\n",
    "    Weigth_level = np.zeros((len(E_return), Nbr_PTF)) #Initialize the array\n",
    "    Var_level = np.zeros((1, Nbr_PTF))\n",
    "    \n",
    "    \n",
    "    # Define objective fonction to minimize :\n",
    "\n",
    "    def Min_Variance_obj (weigth, Cov_matrix = E_cov) : \n",
    "        return (0.5*np.dot(np.dot(weigth.T, Cov_matrix), weigth))\n",
    "    \n",
    "# Optimization for each return target :\n",
    "\n",
    "    constraints = (\n",
    "        {'type': 'eq', 'fun': lambda x: np.sum(x*E_return.values) - target}, # Optimization for a target return \n",
    "        {'type': 'eq', 'fun': lambda x: np.sum(x) - 1})\n",
    "\n",
    "    for i in range(0,Nbr_PTF):\n",
    "        target = Target_return[i]\n",
    "        Efficient_frontier_result =  sco.minimize(\n",
    "            fun = Min_Variance_obj, \n",
    "            x0 = Initial_weights, \n",
    "            method = 'SLSQP', \n",
    "            constraints = constraints,\n",
    "            bounds = bounds\n",
    "        ) \n",
    "        \n",
    "        Weigth_level[:,i] = Efficient_frontier_result ['x']\n",
    "        Var_level[0,i] = np.sqrt(2*Efficient_frontier_result['fun'])\n",
    "    \n",
    "    Return_effectiv = np.dot(E_return.values, Weigth_level)\n",
    "    Efficient_frontiere = np.concatenate((np.array([Target_return]), Var_level))\n",
    "    \n",
    "    # Data formatting \n",
    "    \n",
    "    Efficient_frontiere_df = pd.DataFrame(Efficient_frontiere.T, columns=['Returns','Standard_deviation'])\n",
    "    Efficient_frontiere_df.set_index('Standard_deviation', inplace=True)\n",
    "    \n",
    "    Efficient_frontiere_weigth = pd.DataFrame(Weigth_level.T, columns=Weigth_names)\n",
    "    \n",
    "    Efficient_frontiere_result = {'Efficient_frontiere': Efficient_frontiere_df,\n",
    "                                           'Efficient_frontiere_weigth': Efficient_frontiere_weigth}\n",
    "    \n",
    "    return(Efficient_frontiere_result)\n",
    "\n",
    "\n",
    "\n",
    "\n"
   ]
  },
  {
   "cell_type": "code",
   "execution_count": 134,
   "metadata": {},
   "outputs": [
    {
     "data": {
      "text/plain": [
       "{'Efficient_frontiere':                      Returns\n",
       " Standard_deviation          \n",
       " 0.037757            0.009991\n",
       " 0.038101            0.010199\n",
       " 0.047892            0.010407\n",
       " 0.038926            0.010615\n",
       " 0.039403            0.010823\n",
       " ...                      ...\n",
       " 0.155148            0.029738\n",
       " 0.162573            0.029946\n",
       " 0.170825            0.030154\n",
       " 0.179788            0.030362\n",
       " 0.189363            0.030569\n",
       " \n",
       " [100 rows x 1 columns],\n",
       " 'Efficient_frontiere_weigth':        Meals      Guns     Hshld       Oil     Txtls\n",
       " 0   0.294806  0.281711  0.465686  0.138097 -0.180300\n",
       " 1   0.300912  0.305068  0.440730  0.136044 -0.182755\n",
       " 2   0.206791  0.252461  0.159622  0.198606  0.182521\n",
       " 3   0.313032  0.351715  0.390789  0.132332 -0.187868\n",
       " 4   0.319144  0.375047  0.365870  0.130447 -0.190508\n",
       " ..       ...       ...       ...       ...       ...\n",
       " 95  2.000000  2.000000 -2.000000  0.374253 -1.374253\n",
       " 96  2.000000  2.000000 -2.000000  0.530690 -1.530690\n",
       " 97  2.000000  2.000000 -2.000000  0.687126 -1.687126\n",
       " 98  2.000000  2.000000 -2.000000  0.843563 -1.843563\n",
       " 99  2.000000  2.000000 -2.000000  1.000000 -2.000000\n",
       " \n",
       " [100 rows x 5 columns]}"
      ]
     },
     "execution_count": 134,
     "metadata": {},
     "output_type": "execute_result"
    }
   ],
   "source": [
    "Ptf_target_optimization(E_return, E_cov, Nbr_PTF = 100, bounds = (-2, 2))"
   ]
  },
  {
   "cell_type": "code",
   "execution_count": 121,
   "metadata": {},
   "outputs": [],
   "source": [
    "\n",
    "## With risk-free asset :\n",
    "\n",
    "def Ptf_target_optimization_W_Rf(E_return, E_cov, Expected_Risk_free, Nbr_PTF, bounds = (-2,2)):\n",
    "    \n",
    "     #Define Variables\n",
    "    \n",
    "    Max_return_result = Max_return_ptf(E_return, bounds)\n",
    "    \n",
    "    Initial_weights = np.array([1 / len(E_return)] * len(E_return))\n",
    "    bounds = tuple(bounds for w in Initial_weights)\n",
    "    \n",
    "    \n",
    "    Target_return = np.linspace(Expected_Risk_free, Max_return_result['Max_ret_return'].iloc[0]['return'], Nbr_PTF)\n",
    "    Weigth_names =  np.concatenate((np.array(['Risk_free']) , E_return.index.values))\n",
    "    \n",
    "    Var_level_W_O_S = np.zeros((1, Nbr_PTF))\n",
    "    Weigth_level_W_O_S = np.zeros((len(E_return) + 1 , Nbr_PTF)) #Initialize the array\n",
    "    \n",
    "    \n",
    "    \n",
    "    # Define objective fonction to minimize :\n",
    "\n",
    "    def Min_Variance_obj (weigth, Cov_matrix = E_cov) : \n",
    "        return (0.5*np.dot(np.dot(weigth.T, Cov_matrix), weigth))\n",
    "# Constraint :\n",
    "\n",
    "    constraints_W_RF = (\n",
    "          {'type': 'eq', 'fun': lambda x: np.sum(x*(E_return.values-Expected_Risk_free)) - (target-Expected_Risk_free)}) # Optimization for a target return \n",
    "\n",
    "\n",
    "    for i in range(0,Nbr_PTF):\n",
    "        target = Target_return[i]\n",
    "        Efficient_frontier_r =  sco.minimize(\n",
    "            fun = Min_Variance_obj, \n",
    "            x0 = Initial_weights, \n",
    "            method = 'SLSQP', \n",
    "            constraints = constraints_W_RF,\n",
    "            bounds = bounds\n",
    "        ) \n",
    "        \n",
    "        Var_level_W_O_S[0,i] = np.sqrt(2*Efficient_frontier_r['fun'])\n",
    "        Weigth_level_W_O_S[1:6,i] = Efficient_frontier_r['x']\n",
    "        Weigth_level_W_O_S[0,i] = 1-np.sum(Efficient_frontier_r['x'])\n",
    "    \n",
    "    Expected_return_W_RF= np.concatenate((np.array([Expected_Risk_free]),E_return))\n",
    "    Return_effectiv= np.dot(Expected_return_W_RF,Weigth_level_W_O_S)\n",
    "    \n",
    "    Efficient_frontiere = np.concatenate((np.array([Return_effectiv]),Var_level_W_O_S))\n",
    "    \n",
    "    # Data formatting \n",
    "    \n",
    "    Efficient_frontiere_df = pd.DataFrame(Efficient_frontiere.T,columns=['Returns','Standard_deviation'])\n",
    "    Efficient_frontiere_df.set_index('Standard_deviation', inplace=True)\n",
    "    Efficient_frontiere_weigth = pd.DataFrame(Weigth_level_W_O_S.T,columns=Weigth_names)\n",
    "    \n",
    "    Efficient_frontiere_result = dict([('Efficient_frontiere',Efficient_frontiere_df),\n",
    "                                           ('Efficient_frontiere_weigth',Efficient_frontiere_weigth)])\n",
    "    \n",
    "    return(Efficient_frontiere_result)\n",
    "\n",
    "\n",
    "\n",
    "##Créer une fonction plot ()"
   ]
  },
  {
   "cell_type": "code",
   "execution_count": 131,
   "metadata": {},
   "outputs": [
    {
     "data": {
      "text/plain": [
       "1.149232404371585"
      ]
     },
     "execution_count": 131,
     "metadata": {},
     "output_type": "execute_result"
    }
   ],
   "source": [
    "# Input : \n",
    "\n",
    "# Importation of the SOFR :\n",
    "\n",
    "\n",
    "\n",
    "\n",
    "def Load_rf(path = \"C:/Users/Sébastien/Desktop/TP1/TP1/SOFR30DAYAVG.xls\", date = '2021-08-01'):\n",
    "\n",
    "    Data_SOFR = pd.read_excel(path)\n",
    "\n",
    "    Data_SOFR['observation_date'] = pd.to_datetime(Data_SOFR['observation_date'], format='%Y-%m-%d')\n",
    "    Data_SOFR.set_index('observation_date', inplace=True)\n",
    "\n",
    "    Data_SOFR=Data_SOFR.dropna()\n",
    "\n",
    "\n",
    "\n",
    "    Expected_Risk_free = Data_SOFR[Data_SOFR.index >= date].mean() # do again \n",
    "    \n",
    "    return  Expected_Risk_free.iloc[0]\n",
    "\n",
    "Load_rf()"
   ]
  },
  {
   "cell_type": "code",
   "execution_count": 125,
   "metadata": {},
   "outputs": [
    {
     "data": {
      "text/plain": [
       "WindowsPath('c:/Users/Sébastien/Desktop/TP1/TP1/SOFR30DAYAVG.xls')"
      ]
     },
     "execution_count": 125,
     "metadata": {},
     "output_type": "execute_result"
    }
   ],
   "source": [
    "Ptf_target_optimization_W_Rf(E_return, E_cov, Expected_Risk_free, Nbr_PTF, bounds = (-2,2))\n",
    "\n",
    "\n",
    "\n",
    "\n"
   ]
  },
  {
   "cell_type": "code",
   "execution_count": null,
   "metadata": {},
   "outputs": [],
   "source": []
  }
 ],
 "metadata": {
  "kernelspec": {
   "display_name": "Python 3",
   "language": "python",
   "name": "python3"
  },
  "language_info": {
   "codemirror_mode": {
    "name": "ipython",
    "version": 3
   },
   "file_extension": ".py",
   "mimetype": "text/x-python",
   "name": "python",
   "nbconvert_exporter": "python",
   "pygments_lexer": "ipython3",
   "version": "3.9.1 (tags/v3.9.1:1e5d33e, Dec  7 2020, 17:08:21) [MSC v.1927 64 bit (AMD64)]"
  },
  "orig_nbformat": 4,
  "vscode": {
   "interpreter": {
    "hash": "88d95b9faf0006cda2cd8f2d842f9d437694bb0235889fd647749f86105db9c8"
   }
  }
 },
 "nbformat": 4,
 "nbformat_minor": 2
}
