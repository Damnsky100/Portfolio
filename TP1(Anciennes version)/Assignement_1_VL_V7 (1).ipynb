{
 "cells": [
  {
   "cell_type": "markdown",
   "id": "73f99c5a",
   "metadata": {},
   "source": [
    "# GESTION DE PORTEFEUILLE - Assignement 1\n",
    "\n",
    "\n",
    "#### Hugo Lamarre - HEC Montréal\n",
    "#### Hiver 2023"
   ]
  },
  {
   "cell_type": "markdown",
   "id": "a9e5b95b",
   "metadata": {},
   "source": [
    "### Etudiants\n",
    "\n",
    "CARON Sébastien  - \n",
    "\n",
    "LEPEYTRE Vincent - 11237013\n",
    "\n",
    "NONGUIERMA Harold  -\n",
    "\n",
    "TOURÉ Ousmane  -"
   ]
  },
  {
   "cell_type": "markdown",
   "id": "e77f526d",
   "metadata": {},
   "source": [
    "#### Imports"
   ]
  },
  {
   "cell_type": "code",
   "execution_count": 5,
   "id": "249137cc",
   "metadata": {},
   "outputs": [],
   "source": [
    "from Function_Copy1 import *\n",
    "import pandas as pd\n",
    "import numpy as np"
   ]
  },
  {
   "cell_type": "markdown",
   "id": "fb692f45",
   "metadata": {},
   "source": [
    "#### Data Importation"
   ]
  },
  {
   "cell_type": "code",
   "execution_count": 7,
   "id": "3fe3d6c8",
   "metadata": {},
   "outputs": [
    {
     "name": "stderr",
     "output_type": "stream",
     "text": [
      "C:\\Users\\Sébastien\\AppData\\Local\\Temp\\ipykernel_19504\\23822570.py:4: FutureWarning: The pandas.datetime class is deprecated and will be removed from pandas in a future version. Import from datetime module instead.\n",
      "  dateparse = lambda x: pd.datetime.strptime(x,'%Y%m')\n"
     ]
    }
   ],
   "source": [
    "#CSV_path=r\"C:\\Users\\admin\\Desktop\\Gestion ptf (cours)\\48_Industry_Portfolios.csv\" #enter your path linked to the location of your csv file for import\n",
    "def Load_ind_data(path = \"C:/Users/Sébastien/Desktop/TP1/48_Industry_Portfolios.CSV\"):\n",
    "    \n",
    "    dateparse = lambda x: pd.datetime.strptime(x,'%Y%m') \n",
    "\n",
    "    Data = pd.read_csv(path ,skiprows=11,nrows=1157,index_col=0,parse_dates=True,date_parser=dateparse)\n",
    "    Data.columns = Data.columns.str.strip() #Enlever l'espace dans le titre des colonnes\n",
    "\n",
    "    ind_names = list(Data.columns) #List of 48 industry available\n",
    "    \n",
    "    return {\"Data\": Data, \"Industry_name\": ind_names}\n",
    "\n",
    "Data = Load_ind_data()[\"Data\"]\n",
    "\n",
    "Data_select = Data[['Meals','Guns','Hshld','Oil','Txtls']]\n",
    "\n",
    "Data_select = Data_select[Data_select.index >= '2000-01'] # We keep only the data after 2000\n",
    "\n",
    "Industrie_selected = Data_select.columns\n"
   ]
  },
  {
   "cell_type": "markdown",
   "id": "340931cd",
   "metadata": {},
   "source": [
    "#### Selection of 5 industry"
   ]
  },
  {
   "cell_type": "code",
   "execution_count": 8,
   "id": "7e38ad17",
   "metadata": {},
   "outputs": [
    {
     "ename": "KeyError",
     "evalue": "\"['Guns ', 'Oil  '] not in index\"",
     "output_type": "error",
     "traceback": [
      "\u001b[1;31m---------------------------------------------------------------------------\u001b[0m",
      "\u001b[1;31mKeyError\u001b[0m                                  Traceback (most recent call last)",
      "\u001b[1;32m~\\AppData\\Local\\Temp\\ipykernel_19504\\1138240097.py\u001b[0m in \u001b[0;36m<module>\u001b[1;34m\u001b[0m\n\u001b[0;32m      3\u001b[0m \u001b[1;33m\u001b[0m\u001b[0m\n\u001b[0;32m      4\u001b[0m \u001b[1;33m\u001b[0m\u001b[0m\n\u001b[1;32m----> 5\u001b[1;33m \u001b[0mData_select\u001b[0m \u001b[1;33m=\u001b[0m \u001b[0mData\u001b[0m\u001b[1;33m[\u001b[0m\u001b[1;33m[\u001b[0m\u001b[1;34m'Meals'\u001b[0m\u001b[1;33m,\u001b[0m\u001b[1;34m'Guns '\u001b[0m\u001b[1;33m,\u001b[0m\u001b[1;34m'Hshld'\u001b[0m\u001b[1;33m,\u001b[0m\u001b[1;34m'Oil  '\u001b[0m\u001b[1;33m,\u001b[0m\u001b[1;34m'Txtls'\u001b[0m\u001b[1;33m]\u001b[0m\u001b[1;33m]\u001b[0m\u001b[1;33m\u001b[0m\u001b[1;33m\u001b[0m\u001b[0m\n\u001b[0m\u001b[0;32m      6\u001b[0m \u001b[1;33m\u001b[0m\u001b[0m\n\u001b[0;32m      7\u001b[0m \u001b[0mIndustrie_selected\u001b[0m \u001b[1;33m=\u001b[0m \u001b[0mData_select\u001b[0m\u001b[1;33m.\u001b[0m\u001b[0mcolumns\u001b[0m\u001b[1;33m\u001b[0m\u001b[1;33m\u001b[0m\u001b[0m\n",
      "\u001b[1;32mc:\\Users\\Sébastien\\AppData\\Local\\Programs\\Python\\Python39\\lib\\site-packages\\pandas\\core\\frame.py\u001b[0m in \u001b[0;36m__getitem__\u001b[1;34m(self, key)\u001b[0m\n\u001b[0;32m   3028\u001b[0m             \u001b[1;32mif\u001b[0m \u001b[0mis_iterator\u001b[0m\u001b[1;33m(\u001b[0m\u001b[0mkey\u001b[0m\u001b[1;33m)\u001b[0m\u001b[1;33m:\u001b[0m\u001b[1;33m\u001b[0m\u001b[1;33m\u001b[0m\u001b[0m\n\u001b[0;32m   3029\u001b[0m                 \u001b[0mkey\u001b[0m \u001b[1;33m=\u001b[0m \u001b[0mlist\u001b[0m\u001b[1;33m(\u001b[0m\u001b[0mkey\u001b[0m\u001b[1;33m)\u001b[0m\u001b[1;33m\u001b[0m\u001b[1;33m\u001b[0m\u001b[0m\n\u001b[1;32m-> 3030\u001b[1;33m             \u001b[0mindexer\u001b[0m \u001b[1;33m=\u001b[0m \u001b[0mself\u001b[0m\u001b[1;33m.\u001b[0m\u001b[0mloc\u001b[0m\u001b[1;33m.\u001b[0m\u001b[0m_get_listlike_indexer\u001b[0m\u001b[1;33m(\u001b[0m\u001b[0mkey\u001b[0m\u001b[1;33m,\u001b[0m \u001b[0maxis\u001b[0m\u001b[1;33m=\u001b[0m\u001b[1;36m1\u001b[0m\u001b[1;33m,\u001b[0m \u001b[0mraise_missing\u001b[0m\u001b[1;33m=\u001b[0m\u001b[1;32mTrue\u001b[0m\u001b[1;33m)\u001b[0m\u001b[1;33m[\u001b[0m\u001b[1;36m1\u001b[0m\u001b[1;33m]\u001b[0m\u001b[1;33m\u001b[0m\u001b[1;33m\u001b[0m\u001b[0m\n\u001b[0m\u001b[0;32m   3031\u001b[0m \u001b[1;33m\u001b[0m\u001b[0m\n\u001b[0;32m   3032\u001b[0m         \u001b[1;31m# take() does not accept boolean indexers\u001b[0m\u001b[1;33m\u001b[0m\u001b[1;33m\u001b[0m\u001b[1;33m\u001b[0m\u001b[0m\n",
      "\u001b[1;32mc:\\Users\\Sébastien\\AppData\\Local\\Programs\\Python\\Python39\\lib\\site-packages\\pandas\\core\\indexing.py\u001b[0m in \u001b[0;36m_get_listlike_indexer\u001b[1;34m(self, key, axis, raise_missing)\u001b[0m\n\u001b[0;32m   1264\u001b[0m             \u001b[0mkeyarr\u001b[0m\u001b[1;33m,\u001b[0m \u001b[0mindexer\u001b[0m\u001b[1;33m,\u001b[0m \u001b[0mnew_indexer\u001b[0m \u001b[1;33m=\u001b[0m \u001b[0max\u001b[0m\u001b[1;33m.\u001b[0m\u001b[0m_reindex_non_unique\u001b[0m\u001b[1;33m(\u001b[0m\u001b[0mkeyarr\u001b[0m\u001b[1;33m)\u001b[0m\u001b[1;33m\u001b[0m\u001b[1;33m\u001b[0m\u001b[0m\n\u001b[0;32m   1265\u001b[0m \u001b[1;33m\u001b[0m\u001b[0m\n\u001b[1;32m-> 1266\u001b[1;33m         \u001b[0mself\u001b[0m\u001b[1;33m.\u001b[0m\u001b[0m_validate_read_indexer\u001b[0m\u001b[1;33m(\u001b[0m\u001b[0mkeyarr\u001b[0m\u001b[1;33m,\u001b[0m \u001b[0mindexer\u001b[0m\u001b[1;33m,\u001b[0m \u001b[0maxis\u001b[0m\u001b[1;33m,\u001b[0m \u001b[0mraise_missing\u001b[0m\u001b[1;33m=\u001b[0m\u001b[0mraise_missing\u001b[0m\u001b[1;33m)\u001b[0m\u001b[1;33m\u001b[0m\u001b[1;33m\u001b[0m\u001b[0m\n\u001b[0m\u001b[0;32m   1267\u001b[0m         \u001b[1;32mreturn\u001b[0m \u001b[0mkeyarr\u001b[0m\u001b[1;33m,\u001b[0m \u001b[0mindexer\u001b[0m\u001b[1;33m\u001b[0m\u001b[1;33m\u001b[0m\u001b[0m\n\u001b[0;32m   1268\u001b[0m \u001b[1;33m\u001b[0m\u001b[0m\n",
      "\u001b[1;32mc:\\Users\\Sébastien\\AppData\\Local\\Programs\\Python\\Python39\\lib\\site-packages\\pandas\\core\\indexing.py\u001b[0m in \u001b[0;36m_validate_read_indexer\u001b[1;34m(self, key, indexer, axis, raise_missing)\u001b[0m\n\u001b[0;32m   1314\u001b[0m             \u001b[1;32mif\u001b[0m \u001b[0mraise_missing\u001b[0m\u001b[1;33m:\u001b[0m\u001b[1;33m\u001b[0m\u001b[1;33m\u001b[0m\u001b[0m\n\u001b[0;32m   1315\u001b[0m                 \u001b[0mnot_found\u001b[0m \u001b[1;33m=\u001b[0m \u001b[0mlist\u001b[0m\u001b[1;33m(\u001b[0m\u001b[0mset\u001b[0m\u001b[1;33m(\u001b[0m\u001b[0mkey\u001b[0m\u001b[1;33m)\u001b[0m \u001b[1;33m-\u001b[0m \u001b[0mset\u001b[0m\u001b[1;33m(\u001b[0m\u001b[0max\u001b[0m\u001b[1;33m)\u001b[0m\u001b[1;33m)\u001b[0m\u001b[1;33m\u001b[0m\u001b[1;33m\u001b[0m\u001b[0m\n\u001b[1;32m-> 1316\u001b[1;33m                 \u001b[1;32mraise\u001b[0m \u001b[0mKeyError\u001b[0m\u001b[1;33m(\u001b[0m\u001b[1;34mf\"{not_found} not in index\"\u001b[0m\u001b[1;33m)\u001b[0m\u001b[1;33m\u001b[0m\u001b[1;33m\u001b[0m\u001b[0m\n\u001b[0m\u001b[0;32m   1317\u001b[0m \u001b[1;33m\u001b[0m\u001b[0m\n\u001b[0;32m   1318\u001b[0m             \u001b[0mnot_found\u001b[0m \u001b[1;33m=\u001b[0m \u001b[0mkey\u001b[0m\u001b[1;33m[\u001b[0m\u001b[0mmissing_mask\u001b[0m\u001b[1;33m]\u001b[0m\u001b[1;33m\u001b[0m\u001b[1;33m\u001b[0m\u001b[0m\n",
      "\u001b[1;31mKeyError\u001b[0m: \"['Guns ', 'Oil  '] not in index\""
     ]
    }
   ],
   "source": [
    "#Data_select =  Data.sample(n=5,axis='columns') # For reproducability we keep the first 5 industries select by the sample founction\n",
    "# Meals,Guns,Hshld,Oil,Txtls\n",
    "\n",
    "\n",
    "Data_select = Data[['Meals','Guns ','Hshld','Oil  ','Txtls']]\n",
    "\n",
    "Industrie_selected = Data_select.columns\n",
    "\n",
    "# We keep only the data after 2000 :\n",
    "\n",
    "Data_select = Data_select[Data_select.index >= '2000-01']"
   ]
  },
  {
   "cell_type": "markdown",
   "id": "492b5be5",
   "metadata": {},
   "source": [
    "## Part 1 "
   ]
  },
  {
   "cell_type": "markdown",
   "id": "921bf9cb",
   "metadata": {},
   "source": [
    "### A/ Mean-Variance frontier without risk-free asset (with short sell) :"
   ]
  },
  {
   "cell_type": "markdown",
   "id": "0255b1b8",
   "metadata": {},
   "source": [
    "###### Estimation of the covariance-matrix and expected return   :"
   ]
  },
  {
   "cell_type": "code",
   "execution_count": 9,
   "id": "bd335c38",
   "metadata": {},
   "outputs": [],
   "source": [
    "# Expected return : other possible approach simple machine learning with technical indicator \n",
    "\n",
    "E_return = Data_select.mean() # Just for test\n",
    "\n",
    "E_cov = Data_select.cov() # Just for test"
   ]
  },
  {
   "cell_type": "markdown",
   "id": "0567bfcf",
   "metadata": {},
   "source": [
    "###### Constraintes : "
   ]
  },
  {
   "cell_type": "code",
   "execution_count": 10,
   "id": "2bbb39a4",
   "metadata": {},
   "outputs": [],
   "source": [
    "## Generale : \n",
    "\n",
    "# Initialisation of the weigth for optimisation  :\n",
    "\n",
    "Initial_weights = np.array([1 / len(E_return)] * len(E_return))\n",
    "\n",
    "constraints = (\n",
    "  {'type': 'eq', 'fun': lambda x: np.sum(x*E_return.values) - target}, # Optimization for a target return \n",
    "  {'type': 'eq', 'fun': lambda x: np.sum(x) - 1} # Sum of the weigth need to sum to 1\n",
    ")\n",
    "\n",
    "\n",
    "\n",
    "# Define boundaries for weigth : \n",
    "bounds = tuple((0, 1) for w in Initial_weights) # If short sell impossible \n",
    "\n",
    "## Maximum-return portfolio  :\n",
    "\n",
    "constraints_max_ret = ( {'type': 'eq', 'fun': lambda x: np.sum(x) - 1}) # Sum of the weigth need to sum to 1\n",
    "\n",
    "# Define boundaries for weigth (max 2 of leverage) : \n",
    "\n",
    "bounds_short_sell = tuple((-2, 2) for w in Initial_weights) # If short sell possible under limit\n",
    "\n",
    "## Minimum variance portfolio\n",
    "\n",
    "constraints_min_var = ( {'type': 'eq', 'fun': lambda x: np.sum(x) - 1})\n",
    "\n"
   ]
  },
  {
   "cell_type": "markdown",
   "id": "4eff77c1",
   "metadata": {},
   "source": [
    "#### Determination of the maximum return portfolio (undercertain constraintes) :"
   ]
  },
  {
   "cell_type": "code",
   "execution_count": 11,
   "id": "39dc4ab4",
   "metadata": {},
   "outputs": [],
   "source": [
    "Max_return_result = Max_return_ptf(Initial_weights,bounds_short_sell,constraints_max_ret,Industrie_selected,E_return)"
   ]
  },
  {
   "cell_type": "markdown",
   "id": "052fd0e4",
   "metadata": {},
   "source": [
    "##### Determination of the minimum-variance  portfolio  :"
   ]
  },
  {
   "cell_type": "code",
   "execution_count": 12,
   "id": "a5fa3f59",
   "metadata": {},
   "outputs": [],
   "source": [
    "Min_var_result = Min_var_ptf(Initial_weights,bounds_short_sell,constraints_min_var,Industrie_selected,E_cov,E_return)"
   ]
  },
  {
   "cell_type": "code",
   "execution_count": 13,
   "id": "ad896244",
   "metadata": {},
   "outputs": [
    {
     "data": {
      "text/html": [
       "<div>\n",
       "<style scoped>\n",
       "    .dataframe tbody tr th:only-of-type {\n",
       "        vertical-align: middle;\n",
       "    }\n",
       "\n",
       "    .dataframe tbody tr th {\n",
       "        vertical-align: top;\n",
       "    }\n",
       "\n",
       "    .dataframe thead th {\n",
       "        text-align: right;\n",
       "    }\n",
       "</style>\n",
       "<table border=\"1\" class=\"dataframe\">\n",
       "  <thead>\n",
       "    <tr style=\"text-align: right;\">\n",
       "      <th></th>\n",
       "      <th>Meals</th>\n",
       "      <th>Guns</th>\n",
       "      <th>Hshld</th>\n",
       "      <th>Oil</th>\n",
       "      <th>Txtls</th>\n",
       "    </tr>\n",
       "  </thead>\n",
       "  <tbody>\n",
       "    <tr>\n",
       "      <th>Weigth</th>\n",
       "      <td>0.257925</td>\n",
       "      <td>0.148506</td>\n",
       "      <td>0.657359</td>\n",
       "      <td>0.08253</td>\n",
       "      <td>-0.14632</td>\n",
       "    </tr>\n",
       "  </tbody>\n",
       "</table>\n",
       "</div>"
      ],
      "text/plain": [
       "           Meals      Guns     Hshld      Oil    Txtls\n",
       "Weigth  0.257925  0.148506  0.657359  0.08253 -0.14632"
      ]
     },
     "execution_count": 13,
     "metadata": {},
     "output_type": "execute_result"
    }
   ],
   "source": [
    "Min_var_result['Min_var_weigth']"
   ]
  },
  {
   "cell_type": "markdown",
   "id": "69a8a237",
   "metadata": {},
   "source": [
    "##### Determination of the optimal  portfolio  for a given return  :"
   ]
  },
  {
   "cell_type": "code",
   "execution_count": 14,
   "id": "fdefd502",
   "metadata": {},
   "outputs": [],
   "source": [
    "## Input : \n",
    "\n",
    "Nbr_PTF = 100\n",
    "\n",
    "# Initialize the target return use for the frontier :\n",
    "\n",
    "Target_return = np.linspace (Min_var_result['Min_var_return'].iloc[0]['return'],Max_return_result['Max_ret_return'].iloc[0]['return'],Nbr_PTF)\n",
    "\n",
    "# Initialize un empty array for the differente variance value optimize  :\n",
    "\n",
    "Var_level = np.zeros([1,Nbr_PTF])\n",
    "Weigth_level = np.zeros([5,Nbr_PTF])"
   ]
  },
  {
   "cell_type": "code",
   "execution_count": 15,
   "id": "3326a9ea",
   "metadata": {},
   "outputs": [],
   "source": [
    "Efficient_frontiere_result = Ptf_target_optimization(Target_return,Initial_weights,bounds_short_sell,Nbr_PTF,Var_level,Weigth_level,Industrie_selected,E_cov,E_return)"
   ]
  },
  {
   "cell_type": "markdown",
   "id": "d0c1f603",
   "metadata": {},
   "source": [
    "#### Result presentation : "
   ]
  },
  {
   "cell_type": "code",
   "execution_count": 16,
   "id": "e5f649a4",
   "metadata": {
    "scrolled": false
   },
   "outputs": [
    {
     "data": {
      "text/plain": [
       "[]"
      ]
     },
     "execution_count": 16,
     "metadata": {},
     "output_type": "execute_result"
    },
    {
     "data": {
      "image/png": "[encoded data removed]",
      "text/plain": [
       "<Figure size 1080x792 with 1 Axes>"
      ]
     },
     "metadata": {
      "needs_background": "light"
     },
     "output_type": "display_data"
    }
   ],
   "source": [
    "plt=Efficient_frontiere_result['Efficient_frontiere']['Returns'].plot(kind='line',figsize=(15,11), xlim = [0, max(Efficient_frontiere_result['Efficient_frontiere'].index)+0.5], \n",
    "     ylim = [0, max(Efficient_frontiere_result['Efficient_frontiere']['Returns'])+0.2])\n",
    "for i in E_return.index :\n",
    "    plt.scatter([np.sqrt(E_cov[i][i])],[E_return[i]], marker='*')\n",
    "    plt.annotate(i,(np.sqrt(E_cov[i][i]),E_return[i]))\n",
    "                 \n",
    "plt.legend(bbox_to_anchor=(1.0, 1.0))\n",
    "plt.plot()\n",
    "\n",
    "    "
   ]
  },
  {
   "cell_type": "markdown",
   "id": "46ebb75a",
   "metadata": {},
   "source": [
    "### B/ Mean-Variance frontier without risk-free asset (without short sell) :"
   ]
  },
  {
   "cell_type": "markdown",
   "id": "7e1214e8",
   "metadata": {},
   "source": [
    "#### Determination of the maximum return portfolio (without short sell) :"
   ]
  },
  {
   "cell_type": "code",
   "execution_count": 19,
   "id": "5b260c14",
   "metadata": {},
   "outputs": [],
   "source": [
    "# Should give 100% in the industrie with the highest expetected return :\n",
    "\n",
    "Max_return_result_W_O_S = Max_return_ptf(Initial_weights,bounds,constraints_max_ret,Industrie_selected,E_return)"
   ]
  },
  {
   "cell_type": "markdown",
   "id": "c311984d",
   "metadata": {},
   "source": [
    "##### Determination of the minimum-variance  portfolio  :"
   ]
  },
  {
   "cell_type": "code",
   "execution_count": 17,
   "id": "aebfa712",
   "metadata": {},
   "outputs": [],
   "source": [
    "Min_var_result_W_O_S = Min_var_ptf(Initial_weights,bounds,constraints_min_var,Industrie_selected,E_cov,E_return)"
   ]
  },
  {
   "cell_type": "markdown",
   "id": "db146dcb",
   "metadata": {},
   "source": [
    "##### Determination of the optimal  portfolio  for a given return  :"
   ]
  },
  {
   "cell_type": "code",
   "execution_count": 20,
   "id": "a807bbe4",
   "metadata": {},
   "outputs": [],
   "source": [
    "## Input : \n",
    "\n",
    "# Initialize the target return use for the frontier :\n",
    "\n",
    "Target_return_W_O_S = np.linspace (Min_var_result_W_O_S['Min_var_return'].iloc[0]['return'],Max_return_result_W_O_S['Max_ret_return'].iloc[0]['return'],Nbr_PTF)\n",
    "\n",
    "# Initialize un empty array for the differente variance value optimize  :\n",
    "\n",
    "Var_level_W_O_S = np.zeros([1,Nbr_PTF])\n",
    "Weigth_level_W_O_S = np.zeros([5,Nbr_PTF])"
   ]
  },
  {
   "cell_type": "code",
   "execution_count": 21,
   "id": "f17b2fc4",
   "metadata": {},
   "outputs": [],
   "source": [
    "Efficient_frontiere_result_W_O_S = Ptf_target_optimization(Target_return_W_O_S,Initial_weights,bounds,Nbr_PTF,Var_level_W_O_S,Weigth_level_W_O_S,Industrie_selected,E_cov,E_return)"
   ]
  },
  {
   "cell_type": "markdown",
   "id": "c8519eb6",
   "metadata": {},
   "source": [
    "#### Result presentation : "
   ]
  },
  {
   "cell_type": "code",
   "execution_count": 22,
   "id": "caa0fcc5",
   "metadata": {},
   "outputs": [
    {
     "data": {
      "text/plain": [
       "[]"
      ]
     },
     "execution_count": 22,
     "metadata": {},
     "output_type": "execute_result"
    },
    {
     "data": {
      "image/png": "[encoded data removed]",
      "text/plain": [
       "<Figure size 1080x792 with 1 Axes>"
      ]
     },
     "metadata": {
      "needs_background": "light"
     },
     "output_type": "display_data"
    }
   ],
   "source": [
    "plt=Efficient_frontiere_result_W_O_S['Efficient_frontiere']['Returns'].plot(kind='line',figsize=(15,11), \n",
    "     ylim = [0.4, max(Efficient_frontiere_result_W_O_S['Efficient_frontiere']['Returns'])+0.1])\n",
    "for i in E_return.index :\n",
    "    plt.scatter([np.sqrt(E_cov[i][i])],[E_return[i]], marker='*')\n",
    "    plt.annotate(i,(np.sqrt(E_cov[i][i]),E_return[i]))\n",
    "                 \n",
    "plt.legend(bbox_to_anchor=(1.0, 1.0))\n",
    "plt.plot()\n"
   ]
  },
  {
   "cell_type": "markdown",
   "id": "8d0dfc76",
   "metadata": {},
   "source": [
    "## Part 2"
   ]
  },
  {
   "cell_type": "markdown",
   "id": "33eb7eb7",
   "metadata": {},
   "source": [
    "### B/ Mean-Variance frontier with risk-free asset (with short sell) :"
   ]
  },
  {
   "cell_type": "code",
   "execution_count": 32,
   "id": "76cd5ef5",
   "metadata": {},
   "outputs": [],
   "source": [
    "# Input : \n",
    "\n",
    "# Importation of the SOFR :\n",
    "\n",
    "SOFR_path=r\"C:\\Users\\admin\\Desktop\\Gestion ptf (cours)\\SOFR30DAYAVG.xls\" #enter your path linked to the location of your csv file for import\n",
    "\n",
    "\n",
    "Data_SOFR = pd.read_excel(SOFR_path)\n",
    "\n",
    "Data_SOFR['observation_date'] = pd.to_datetime(Data_SOFR['observation_date'], format='%Y-%m-%d')\n",
    "Data_SOFR.set_index('observation_date', inplace=True)\n",
    "\n",
    "Data_SOFR=Data_SOFR.dropna()\n",
    "\n",
    "DATE = '2021-08-01'\n",
    "\n",
    "Expected_Risk_free = Data_SOFR[Data_SOFR.index >= DATE].mean() # do again \n",
    "Expected_Risk_free= Expected_Risk_free.iloc[0]\n",
    "\n",
    "# Constraint :\n",
    "\n",
    "constraints_W_RF = (\n",
    "  {'type': 'eq', 'fun': lambda x: np.sum(x*(E_return.values-Expected_Risk_free)) - (target-Expected_Risk_free)}) # Optimization for a target return "
   ]
  },
  {
   "cell_type": "code",
   "execution_count": 33,
   "id": "f3e93371",
   "metadata": {},
   "outputs": [
    {
     "data": {
      "text/plain": [
       "1.1492324043715851"
      ]
     },
     "execution_count": 33,
     "metadata": {},
     "output_type": "execute_result"
    }
   ],
   "source": [
    "Expected_Risk_free"
   ]
  },
  {
   "cell_type": "markdown",
   "id": "f4dbbfe3",
   "metadata": {},
   "source": [
    "#### Determination of the maximum return portfolio (with short sell) :"
   ]
  },
  {
   "cell_type": "markdown",
   "id": "d7cb5c96",
   "metadata": {},
   "source": [
    "##### Determination of the optimal  portfolio  for a given return  :"
   ]
  },
  {
   "cell_type": "code",
   "execution_count": 34,
   "id": "0b793e01",
   "metadata": {},
   "outputs": [],
   "source": [
    "## Input : \n",
    "\n",
    "# Initialize the target return use for the frontier :\n",
    "\n",
    "Target_return_W_R = np.linspace (Expected_Risk_free,Max_return_result['Max_ret_return'].iloc[0]['return'],Nbr_PTF)\n",
    "#Target_return_W_R = np.linspace (-Max_return_result['Max_ret_return'].iloc[0]['return'],Max_return_result['Max_ret_return'].iloc[0]['return'],Nbr_PTF)\n",
    "\n",
    "# Initialize un empty array for the differente variance value optimize and weigth  :\n",
    "\n",
    "Var_level_W_R_W_S = np.zeros([1,Nbr_PTF])\n",
    "Weigth_level_W_R_W_S = np.zeros([6,Nbr_PTF])\n",
    "\n",
    "Weigth_names = np.concatenate ((np.array(['Risk_free']),Industrie_selected.values))"
   ]
  },
  {
   "cell_type": "code",
   "execution_count": 35,
   "id": "d93530ba",
   "metadata": {},
   "outputs": [],
   "source": [
    "EF_W_R_W_S =Ptf_target_optimization_W_Rf(Target_return_W_R,Initial_weights,Nbr_PTF,Var_level_W_R_W_S,Weigth_level_W_R_W_S,E_cov,E_return,Expected_Risk_free,Weigth_names,bounds_short_sell)"
   ]
  },
  {
   "cell_type": "code",
   "execution_count": 36,
   "id": "a6eb923f",
   "metadata": {},
   "outputs": [
    {
     "data": {
      "text/html": [
       "<div>\n",
       "<style scoped>\n",
       "    .dataframe tbody tr th:only-of-type {\n",
       "        vertical-align: middle;\n",
       "    }\n",
       "\n",
       "    .dataframe tbody tr th {\n",
       "        vertical-align: top;\n",
       "    }\n",
       "\n",
       "    .dataframe thead th {\n",
       "        text-align: right;\n",
       "    }\n",
       "</style>\n",
       "<table border=\"1\" class=\"dataframe\">\n",
       "  <thead>\n",
       "    <tr style=\"text-align: right;\">\n",
       "      <th></th>\n",
       "      <th>Risk_free</th>\n",
       "      <th>Meals</th>\n",
       "      <th>Guns</th>\n",
       "      <th>Hshld</th>\n",
       "      <th>Oil</th>\n",
       "      <th>Txtls</th>\n",
       "    </tr>\n",
       "  </thead>\n",
       "  <tbody>\n",
       "    <tr>\n",
       "      <th>0</th>\n",
       "      <td>0.999962</td>\n",
       "      <td>0.000003</td>\n",
       "      <td>0.000008</td>\n",
       "      <td>0.000019</td>\n",
       "      <td>0.000073</td>\n",
       "      <td>-0.000066</td>\n",
       "    </tr>\n",
       "    <tr>\n",
       "      <th>1</th>\n",
       "      <td>1.013570</td>\n",
       "      <td>0.007369</td>\n",
       "      <td>0.012182</td>\n",
       "      <td>-0.029950</td>\n",
       "      <td>-0.002713</td>\n",
       "      <td>-0.000458</td>\n",
       "    </tr>\n",
       "    <tr>\n",
       "      <th>2</th>\n",
       "      <td>1.027135</td>\n",
       "      <td>0.014738</td>\n",
       "      <td>0.024364</td>\n",
       "      <td>-0.059897</td>\n",
       "      <td>-0.005419</td>\n",
       "      <td>-0.000922</td>\n",
       "    </tr>\n",
       "    <tr>\n",
       "      <th>3</th>\n",
       "      <td>1.040702</td>\n",
       "      <td>0.022107</td>\n",
       "      <td>0.036546</td>\n",
       "      <td>-0.089846</td>\n",
       "      <td>-0.008126</td>\n",
       "      <td>-0.001384</td>\n",
       "    </tr>\n",
       "    <tr>\n",
       "      <th>4</th>\n",
       "      <td>1.054269</td>\n",
       "      <td>0.029476</td>\n",
       "      <td>0.048729</td>\n",
       "      <td>-0.119795</td>\n",
       "      <td>-0.010832</td>\n",
       "      <td>-0.001847</td>\n",
       "    </tr>\n",
       "    <tr>\n",
       "      <th>...</th>\n",
       "      <td>...</td>\n",
       "      <td>...</td>\n",
       "      <td>...</td>\n",
       "      <td>...</td>\n",
       "      <td>...</td>\n",
       "      <td>...</td>\n",
       "    </tr>\n",
       "    <tr>\n",
       "      <th>95</th>\n",
       "      <td>1.699274</td>\n",
       "      <td>0.219618</td>\n",
       "      <td>1.956777</td>\n",
       "      <td>-2.000000</td>\n",
       "      <td>-0.452952</td>\n",
       "      <td>-0.422718</td>\n",
       "    </tr>\n",
       "    <tr>\n",
       "      <th>96</th>\n",
       "      <td>1.691957</td>\n",
       "      <td>0.209958</td>\n",
       "      <td>1.997293</td>\n",
       "      <td>-2.000000</td>\n",
       "      <td>-0.462626</td>\n",
       "      <td>-0.436583</td>\n",
       "    </tr>\n",
       "    <tr>\n",
       "      <th>97</th>\n",
       "      <td>1.749296</td>\n",
       "      <td>0.231716</td>\n",
       "      <td>2.000000</td>\n",
       "      <td>-2.000000</td>\n",
       "      <td>-0.489746</td>\n",
       "      <td>-0.491266</td>\n",
       "    </tr>\n",
       "    <tr>\n",
       "      <th>98</th>\n",
       "      <td>1.811250</td>\n",
       "      <td>0.255741</td>\n",
       "      <td>2.000000</td>\n",
       "      <td>-2.000000</td>\n",
       "      <td>-0.518112</td>\n",
       "      <td>-0.548879</td>\n",
       "    </tr>\n",
       "    <tr>\n",
       "      <th>99</th>\n",
       "      <td>1.873211</td>\n",
       "      <td>0.279757</td>\n",
       "      <td>2.000000</td>\n",
       "      <td>-2.000000</td>\n",
       "      <td>-0.546480</td>\n",
       "      <td>-0.606488</td>\n",
       "    </tr>\n",
       "  </tbody>\n",
       "</table>\n",
       "<p>100 rows × 6 columns</p>\n",
       "</div>"
      ],
      "text/plain": [
       "    Risk_free     Meals     Guns      Hshld     Oil       Txtls\n",
       "0    0.999962  0.000003  0.000008  0.000019  0.000073 -0.000066\n",
       "1    1.013570  0.007369  0.012182 -0.029950 -0.002713 -0.000458\n",
       "2    1.027135  0.014738  0.024364 -0.059897 -0.005419 -0.000922\n",
       "3    1.040702  0.022107  0.036546 -0.089846 -0.008126 -0.001384\n",
       "4    1.054269  0.029476  0.048729 -0.119795 -0.010832 -0.001847\n",
       "..        ...       ...       ...       ...       ...       ...\n",
       "95   1.699274  0.219618  1.956777 -2.000000 -0.452952 -0.422718\n",
       "96   1.691957  0.209958  1.997293 -2.000000 -0.462626 -0.436583\n",
       "97   1.749296  0.231716  2.000000 -2.000000 -0.489746 -0.491266\n",
       "98   1.811250  0.255741  2.000000 -2.000000 -0.518112 -0.548879\n",
       "99   1.873211  0.279757  2.000000 -2.000000 -0.546480 -0.606488\n",
       "\n",
       "[100 rows x 6 columns]"
      ]
     },
     "execution_count": 36,
     "metadata": {},
     "output_type": "execute_result"
    }
   ],
   "source": [
    "EF_W_R_W_S['Efficient_frontiere_weigth']"
   ]
  },
  {
   "cell_type": "code",
   "execution_count": 37,
   "id": "61e95dee",
   "metadata": {},
   "outputs": [
    {
     "data": {
      "text/plain": [
       "[]"
      ]
     },
     "execution_count": 37,
     "metadata": {},
     "output_type": "execute_result"
    },
    {
     "data": {
      "image/png": "[encoded data removed]",
      "text/plain": [
       "<Figure size 1500x1100 with 1 Axes>"
      ]
     },
     "metadata": {},
     "output_type": "display_data"
    }
   ],
   "source": [
    "plt=EF_W_R_W_S['Efficient_frontiere'].plot(kind='line',figsize=(15,11), xlim = [0, max(EF_W_R_W_S['Efficient_frontiere'].index)+0.5], \n",
    "     ylim = [0, max(EF_W_R_W_S['Efficient_frontiere']['Returns'])+0.2])\n",
    "for i in E_return.index :\n",
    "    plt.scatter([np.sqrt(E_cov[i][i])],[E_return[i]], marker='*')\n",
    "    plt.annotate(i,(np.sqrt(E_cov[i][i]),E_return[i]))\n",
    "                 \n",
    "plt.legend(bbox_to_anchor=(1.0, 1.0))\n",
    "plt.plot()"
   ]
  },
  {
   "cell_type": "markdown",
   "id": "c2cdffc8",
   "metadata": {},
   "source": [
    "#### Determination of the maximum return portfolio (without short sell) :"
   ]
  },
  {
   "cell_type": "code",
   "execution_count": 23,
   "id": "591f7fed",
   "metadata": {},
   "outputs": [],
   "source": [
    "## Input :\n",
    "\n",
    "Expected_return_W_RF= np.concatenate((np.array([Expected_Risk_free]),E_return))\n",
    "\n",
    "\n",
    "# Initialize the target return use for the frontier :\n",
    "\n",
    "#Target_return_W_R_WO_S = np.linspace (Expected_Risk_free,Max_return_result_W_O_S['Max_ret_return'].iloc[0]['return'],Nbr_PTF)\n",
    "\n",
    "Target_return_W_R_WO_S = np.linspace (Expected_Risk_free,Max_return_result['Max_ret_return'].iloc[0]['return'],Nbr_PTF)\n",
    "\n",
    "# Initialize un empty array for the differente variance value optimize and weigth  :\n",
    "\n",
    "Var_level_W_R_WO_S = np.zeros([1,Nbr_PTF])\n",
    "Weigth_level_W_R_WO_S = np.zeros([6,Nbr_PTF])\n",
    "\n",
    "\n",
    "# Spécifique boudaries : \n",
    "\n",
    "bounds_emprunt = tuple((0, 2) for w in Initial_weights) # If short sell possible under limit"
   ]
  },
  {
   "cell_type": "code",
   "execution_count": 24,
   "id": "5a8e1e2a",
   "metadata": {},
   "outputs": [],
   "source": [
    "EF_W_R_WO_S = Ptf_target_optimization_W_Rf(Target_return_W_R_WO_S,Initial_weights,Nbr_PTF,Var_level_W_R_WO_S,Weigth_level_W_R_WO_S,E_cov,E_return,Expected_Risk_free,Weigth_names,bounds_emprunt)"
   ]
  },
  {
   "cell_type": "code",
   "execution_count": 25,
   "id": "c9a6890f",
   "metadata": {},
   "outputs": [
    {
     "data": {
      "text/plain": [
       "[]"
      ]
     },
     "execution_count": 25,
     "metadata": {},
     "output_type": "execute_result"
    },
    {
     "data": {
      "image/png": "[encoded data removed]",
      "text/plain": [
       "<Figure size 1500x1100 with 1 Axes>"
      ]
     },
     "metadata": {},
     "output_type": "display_data"
    }
   ],
   "source": [
    "plt=EF_W_R_WO_S['Efficient_frontiere'].plot(kind='line',figsize=(15,11), xlim = [0,max(EF_W_R_WO_S['Efficient_frontiere'].index)+0.2], \n",
    "     ylim = [0, max(EF_W_R_WO_S['Efficient_frontiere']['Returns'])+0.2])\n",
    "for i in E_return.index :\n",
    "    plt.scatter([np.sqrt(E_cov[i][i])],[E_return[i]], marker='*')\n",
    "    plt.annotate(i,(np.sqrt(E_cov[i][i]),E_return[i]))\n",
    "                 \n",
    "plt.legend(bbox_to_anchor=(1.0, 1.0))\n",
    "plt.plot()"
   ]
  }
 ],
 "metadata": {
  "kernelspec": {
   "display_name": "Python 3",
   "language": "python",
   "name": "python3"
  },
  "language_info": {
   "codemirror_mode": {
    "name": "ipython",
    "version": 3
   },
   "file_extension": ".py",
   "mimetype": "text/x-python",
   "name": "python",
   "nbconvert_exporter": "python",
   "pygments_lexer": "ipython3",
   "version": "3.9.1"
  },
  "vscode": {
   "interpreter": {
    "hash": "88d95b9faf0006cda2cd8f2d842f9d437694bb0235889fd647749f86105db9c8"
   }
  }
 },
 "nbformat": 4,
 "nbformat_minor": 5
}
