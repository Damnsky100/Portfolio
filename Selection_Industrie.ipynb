{
 "cells": [
  {
   "cell_type": "code",
   "execution_count": 1,
   "metadata": {},
   "outputs": [
    {
     "data": {
      "text/plain": [
       "<module 'Functions' from 'c:\\\\Users\\\\Sébastien\\\\Desktop\\\\TP1\\\\Functions.py'>"
      ]
     },
     "execution_count": 1,
     "metadata": {},
     "output_type": "execute_result"
    }
   ],
   "source": [
    "import pandas as pd\n",
    "import numpy as np\n",
    "import Functions as f\n",
    "import importlib\n",
    "importlib.reload(f)"
   ]
  },
  {
   "cell_type": "code",
   "execution_count": null,
   "metadata": {},
   "outputs": [],
   "source": [
    "Data = f.Load_ind_data()[\"Data\"]\n",
    "Data = Data[Data.index >= '2000-01'] # We keep only the data after 2000\n",
    "\n",
    "Data_select = Data[['Meals','Guns','Hshld','Oil','Txtls']]\n",
    "\n",
    "\n",
    "Industrie_selected = Data_select.columns\n",
    "\n",
    "\n",
    "Data\n"
   ]
  },
  {
   "attachments": {},
   "cell_type": "markdown",
   "metadata": {},
   "source": [
    "## Selection of Industry"
   ]
  },
  {
   "cell_type": "code",
   "execution_count": null,
   "metadata": {},
   "outputs": [],
   "source": [
    "ret_ind = f.annualize_rets(Data/100, 12) \n",
    "\n",
    "cov = Data.cov()\n",
    "\n",
    "ann_vol = f.annualize_vol(Data/100, 12)\n",
    "\n",
    "\n",
    "f.sharpe_ratio(Data/100, Expected_Risk_free/100, 12).sort_values().plot.bar(title=\"Industry Sharpe Ratio\", color = \"goldenrod\", figsize = (12,5))"
   ]
  },
  {
   "cell_type": "code",
   "execution_count": null,
   "metadata": {},
   "outputs": [],
   "source": [
    "ret_ind = f.annualize_rets(Data/100, 12)\n",
    "\n",
    "Efficient_frontiere_result = f.Ptf_target_optimization(ret_ind, cov, 100, bounds = (0, 1))\n",
    "\n",
    "\n",
    "plt=Efficient_frontiere_result['Efficient_frontiere']['Returns'].plot(kind='line',figsize=(15,11),\n",
    "                                                                    xlim = [0,\n",
    "                                                                              max(Efficient_frontiere_result['Efficient_frontiere'].index)+5], \n",
    "                                                                    ylim = [0,\n",
    "                                                                            max(Efficient_frontiere_result['Efficient_frontiere']['Returns'])+0.1])\n",
    "\n",
    "\n",
    "for i in ret_ind.index :\n",
    "    plt.scatter([np.sqrt(cov[i][i])],[ret_ind[i]], marker='*')\n",
    "    plt.annotate(i,(np.sqrt(cov[i][i]),ret_ind[i]))\n",
    "    \n",
    "                 \n",
    "plt.legend(bbox_to_anchor=(1.0, 1.0))\n",
    "plt.plot()\n",
    "[np.sqrt(cov[\"Gold\"][\"Gold\"])],[ret_ind[\"Gold\"]]"
   ]
  },
  {
   "cell_type": "code",
   "execution_count": null,
   "metadata": {},
   "outputs": [],
   "source": [
    "w = f.Min_var_ptf(ret_ind, cov, bounds = (0,1))[\"Min_var_weigth\"]\n",
    "df = pd.DataFrame(round(w, 2).values, columns = w.columns).transpose()\n",
    "df.columns = [\"Weight\"]\n",
    "result1 = df.sort_values(by=\"Weight\", ascending = False)[:10].index\n",
    "result1"
   ]
  },
  {
   "cell_type": "code",
   "execution_count": null,
   "metadata": {},
   "outputs": [],
   "source": [
    "w = f.Min_var_ptf(ret_ind, cov, bounds = (-2,2))[\"Min_var_weigth\"]\n",
    "df = f.pd.DataFrame(abs(round(w, 2).values), columns = w.columns).transpose()\n",
    "df.columns = [\"Weight\"]\n",
    "result2 = df.sort_values(by=\"Weight\", ascending = False)[:5].index\n",
    "result2"
   ]
  },
  {
   "cell_type": "code",
   "execution_count": null,
   "metadata": {},
   "outputs": [],
   "source": [
    "tmp = result1.append(result2)\n",
    "res_ind = [] \n",
    "[res_ind.append(x) for x in tmp if x not in res_ind] \n",
    "len(res_ind)"
   ]
  },
  {
   "cell_type": "code",
   "execution_count": null,
   "metadata": {},
   "outputs": [],
   "source": [
    "\n",
    "import seaborn as sns\n",
    "import matplotlib.pyplot as plt\n",
    "data_ind = Data[res_ind]\n",
    "cormat = data_ind.corr()\n",
    "print(round(cormat,2))\n",
    "\n",
    "plt.figure(figsize=(15, 7))\n",
    "\n",
    "sns.heatmap(cormat);\n",
    "\n",
    "plt.show()"
   ]
  },
  {
   "cell_type": "code",
   "execution_count": null,
   "metadata": {},
   "outputs": [],
   "source": [
    "ret_ind = f.annualize_rets(data_ind/100, 12)#Some industry mark -1, because of data trash I think\n",
    "\n",
    "cov = data_ind.cov()\n",
    "\n",
    "Efficient_frontiere_result = f.Ptf_target_optimization(ret_ind, cov, 100, bounds = (0, 1))\n",
    "\n",
    "plt=Efficient_frontiere_result['Efficient_frontiere']['Returns'].plot(kind='line',figsize=(15,11),\n",
    "                                                                    xlim = [min(Efficient_frontiere_result['Efficient_frontiere'].index) - 0.1,\n",
    "                                                                              max(Efficient_frontiere_result['Efficient_frontiere'].index)+5], \n",
    "                                                                    ylim = [min(Efficient_frontiere_result['Efficient_frontiere']['Returns'])-0.1,\n",
    "                                                                            max(Efficient_frontiere_result['Efficient_frontiere']['Returns'])+0.1])\n",
    "\n",
    "\n",
    "for i in ret_ind.index :\n",
    "    plt.scatter([np.sqrt(cov[i][i])],[ret_ind[i]], marker='*')\n",
    "    plt.annotate(i,(np.sqrt(cov[i][i]),ret_ind[i]))\n",
    "                 \n",
    "plt.legend(bbox_to_anchor=(1.0, 1.0))\n",
    "plt.plot()"
   ]
  },
  {
   "attachments": {},
   "cell_type": "markdown",
   "metadata": {},
   "source": [
    "On pourrait générer des combinaisons des 11 industries et voir le ratio qui maximise la courbe efficiente\n",
    "\n",
    "J'ai pris les 5 industries ayant pas trop de corréalations + portefeuille le + proche de la courbe efficiente\n",
    "\n",
    "[\"Agric\", \"Guns\", \"\"Food\", \"Soda\", \"Util\"]"
   ]
  }
 ],
 "metadata": {
  "kernelspec": {
   "display_name": "Python 3",
   "language": "python",
   "name": "python3"
  },
  "language_info": {
   "codemirror_mode": {
    "name": "ipython",
    "version": 3
   },
   "file_extension": ".py",
   "mimetype": "text/x-python",
   "name": "python",
   "nbconvert_exporter": "python",
   "pygments_lexer": "ipython3",
   "version": "3.9.1"
  },
  "orig_nbformat": 4,
  "vscode": {
   "interpreter": {
    "hash": "88d95b9faf0006cda2cd8f2d842f9d437694bb0235889fd647749f86105db9c8"
   }
  }
 },
 "nbformat": 4,
 "nbformat_minor": 2
}
